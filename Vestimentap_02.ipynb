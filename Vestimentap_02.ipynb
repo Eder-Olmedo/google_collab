{
  "nbformat": 4,
  "nbformat_minor": 0,
  "metadata": {
    "colab": {
      "name": "Untitled0.ipynb",
      "provenance": [],
      "collapsed_sections": [],
      "include_colab_link": true
    },
    "kernelspec": {
      "display_name": "Python 3",
      "name": "python3"
    },
    "language_info": {
      "name": "python"
    }
  },
  "cells": [
    {
      "cell_type": "markdown",
      "metadata": {
        "id": "view-in-github",
        "colab_type": "text"
      },
      "source": [
        "<a href=\"https://colab.research.google.com/github/Eder-Olmedo/google_collab/blob/main/Vestimentap_02.ipynb\" target=\"_parent\"><img src=\"https://colab.research.google.com/assets/colab-badge.svg\" alt=\"Open In Colab\"/></a>"
      ]
    },
    {
      "cell_type": "code",
      "metadata": {
        "id": "2VAZCv92zkDS"
      },
      "source": [
        "# PLE con backtracking\n",
        "def backtracking (variables, rango_variables, optimo, profundidad):\n",
        "    min = rango_variables[profundidad][0]\n",
        "    max = rango_variables[profundidad][1]\n",
        "    for v in range (min, max):\n",
        "        variables[profundidad] = v\n",
        "        if profundidad < len(variables)-1:\n",
        "            # es completable si no incumple ninguna restricción\n",
        "            if es_completable(variables): \n",
        "                optimo = backtracking (variables[:], rango_variables, optimo, profundidad+1)             \n",
        "            #else:\n",
        "                # Estamos en una hoja. Comprobamos la solución\n",
        "        sol = evalua_solucion(variables)\n",
        "        if sol > evalua_solucion(optimo) and es_completable(variables):\n",
        "                  optimo = (variables[0], variables[1])\n",
        "    return optimo\n",
        "\n",
        "\n",
        "\n",
        "\n"
      ],
      "execution_count": 1,
      "outputs": []
    },
    {
      "cell_type": "code",
      "metadata": {
        "id": "w1_NPwsz0xJ_"
      },
      "source": [
        "\n",
        "def evalua_solucion (variables):\n",
        "    x1 = variables[0]\n",
        "    x2 = variables[1]\n",
        "    val = (12-6)*x1 + (8-4)*x2\n",
        "    return val\n",
        "\n"
      ],
      "execution_count": 2,
      "outputs": []
    },
    {
      "cell_type": "code",
      "metadata": {
        "id": "ExPeXEuOzki9"
      },
      "source": [
        "def es_completable (variables):\n",
        "    x1 = variables [0]\n",
        "    x2 = variables [1]\n",
        "    val1 = 7*x1 + 4*x2\n",
        "    val2 = 6*x1 + 5*x2\n",
        "    if val1 <= 150 and val2 <= 160:\n",
        "        return True\n",
        "    else:\n",
        "        return False"
      ],
      "execution_count": 3,
      "outputs": []
    },
    {
      "cell_type": "code",
      "metadata": {
        "id": "GWZzwAjn0q4W",
        "colab": {
          "base_uri": "https://localhost:8080/"
        },
        "outputId": "beda9a02-4348-49fb-88a4-a60a9de8a2c6"
      },
      "source": [
        "if __name__ == \"__main__\":\n",
        "    # valores de las variables x1 y x2\n",
        "    variables = [0, 0]\n",
        "    # rangos de las variables x1 y x2\n",
        "    rango_variables = [(0,21),(0,32)]\n",
        "    # mejor solución encontrada\n",
        "    optimo = (0, 0)\n",
        "    sol = backtracking (variables[:], rango_variables, optimo, 0)\n",
        "    print (\"Mejor solución: \")\n",
        "    print (str(sol [0]) + \" Pantalones.\")\n",
        "    print (str(sol [1]) + \" Camisetas.\")\n",
        "    print (\"Beneficio: \"+ str(evalua_solucion(sol)))"
      ],
      "execution_count": 4,
      "outputs": [
        {
          "output_type": "stream",
          "text": [
            "Mejor solución: \n",
            "10 Pantalones.\n",
            "20 Camisetas.\n",
            "Beneficio: 140\n"
          ],
          "name": "stdout"
        }
      ]
    }
  ]
}