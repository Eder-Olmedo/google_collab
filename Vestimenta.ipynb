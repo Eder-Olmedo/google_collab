{
  "nbformat": 4,
  "nbformat_minor": 0,
  "metadata": {
    "colab": {
      "name": "Vestimenta.ipynb",
      "provenance": [],
      "authorship_tag": "ABX9TyN8s2ZRkqulgakh8r+LzNP3",
      "include_colab_link": true
    },
    "kernelspec": {
      "name": "python3",
      "display_name": "Python 3"
    },
    "language_info": {
      "name": "python"
    }
  },
  "cells": [
    {
      "cell_type": "markdown",
      "metadata": {
        "id": "view-in-github",
        "colab_type": "text"
      },
      "source": [
        "<a href=\"https://colab.research.google.com/github/Eder-Olmedo/google_collab/blob/main/Vestimenta.ipynb\" target=\"_parent\"><img src=\"https://colab.research.google.com/assets/colab-badge.svg\" alt=\"Open In Colab\"/></a>"
      ]
    },
    {
      "cell_type": "markdown",
      "metadata": {
        "id": "-9R1Xt49aPlp"
      },
      "source": [
        "Vestimentas:"
      ]
    },
    {
      "cell_type": "markdown",
      "metadata": {
        "id": "7Xwu1RnDaU3B"
      },
      "source": [
        "Maximizar una función que representa el beneficio resultante de fabricar X1 camisetas y X2 pantalones \n",
        "\n",
        "F(X1, X2) = (12-6)X1+(8-4)X2,\n",
        "con las siguientes restricciones: \n",
        "\n",
        "7X1+4X2<=150 \n",
        "\n",
        "6X1+5X2<=160 \n",
        "\n",
        "X1>=0 X2>=0\n",
        "\n",
        "OBJETIVO: \n",
        "Encontrar una asignación de valores enteros para las variables X1, X2 que, cumpliendo con las restricciones impuestas hagan que la función f tome el máximo valor posible. Recordar también que X1 está acotado entre 0 y 21 y X2 entre 0 y 32\n"
      ]
    },
    {
      "cell_type": "markdown",
      "metadata": {
        "id": "i3pZl7qGauJ_"
      },
      "source": [
        "Primeros importamos los archivos necesarios y creamos el pulpobjeto LP con el que se trabaja.\n"
      ]
    },
    {
      "cell_type": "code",
      "metadata": {
        "colab": {
          "base_uri": "https://localhost:8080/"
        },
        "id": "sgU4Xf-Kagvc",
        "outputId": "19f09b12-c5c0-45d9-82f5-17bc0f687d6f"
      },
      "source": [
        "pip install pulp"
      ],
      "execution_count": 69,
      "outputs": [
        {
          "output_type": "stream",
          "text": [
            "Requirement already satisfied: pulp in /usr/local/lib/python3.7/dist-packages (2.5.0)\n"
          ],
          "name": "stdout"
        }
      ]
    },
    {
      "cell_type": "code",
      "metadata": {
        "id": "20D-u_ZfaUCb"
      },
      "source": [
        "import numpy as np\n",
        "import pulp\n",
        "\n",
        "#creamos el objeto LP, para el problema de maximizacion\n",
        "problema = pulp.LpProblem(\"Vestimenta\", pulp.LpMaximize)\n",
        "\n",
        "#creamos las variables de decisión\n",
        "camisas = pulp.LpVariable('Camisas', lowBound=0, cat='Integer')\n",
        "pantalones = pulp.LpVariable('Pantalones', lowBound=0, cat='Integer')"
      ],
      "execution_count": 81,
      "outputs": []
    },
    {
      "cell_type": "markdown",
      "metadata": {
        "id": "rHPgxkAxb6Mo"
      },
      "source": [
        "Se agrega la funcion Obejtivo:"
      ]
    },
    {
      "cell_type": "code",
      "metadata": {
        "id": "KGlvLyoBb34z"
      },
      "source": [
        "#Beneficio Resultante\n",
        "problema += 6*camisas + 4*pantalones"
      ],
      "execution_count": 82,
      "outputs": []
    },
    {
      "cell_type": "markdown",
      "metadata": {
        "id": "Ax5mhBeQhmeH"
      },
      "source": [
        "Restricciones\n"
      ]
    },
    {
      "cell_type": "code",
      "metadata": {
        "id": "SGEseWmXhn96"
      },
      "source": [
        "#Datos\n",
        "problema += 7*camisas + 4*pantalones <= 150\n",
        "problema += 6*pantalones + 5*pantalones <= 160"
      ],
      "execution_count": 83,
      "outputs": []
    },
    {
      "cell_type": "code",
      "metadata": {
        "colab": {
          "base_uri": "https://localhost:8080/"
        },
        "id": "o5LvsGPziGkc",
        "outputId": "4a7a434b-13b0-48ac-c73b-4b190b5ec24c"
      },
      "source": [
        "problema.solve()"
      ],
      "execution_count": 84,
      "outputs": [
        {
          "output_type": "execute_result",
          "data": {
            "text/plain": [
              "1"
            ]
          },
          "metadata": {
            "tags": []
          },
          "execution_count": 84
        }
      ]
    },
    {
      "cell_type": "code",
      "metadata": {
        "colab": {
          "base_uri": "https://localhost:8080/"
        },
        "id": "h8SY67P5lgUH",
        "outputId": "3d272c24-fc95-4984-e3bf-92f01a980999"
      },
      "source": [
        "print(\"Produce {} camisas\".format(camisas.varValue))\n",
        "print(\"Produce {} pantalones\".format(pantalones.varValue))"
      ],
      "execution_count": 85,
      "outputs": [
        {
          "output_type": "stream",
          "text": [
            "Produce 14.0 camisas\n",
            "Produce 13.0 pantalones\n"
          ],
          "name": "stdout"
        }
      ]
    },
    {
      "cell_type": "code",
      "metadata": {
        "colab": {
          "base_uri": "https://localhost:8080/"
        },
        "id": "zrBj1Ytglxop",
        "outputId": "8a54b1f8-e1dc-4910-c424-27d30577ce03"
      },
      "source": [
        "print(\"Beneficios Maimizado {} \".format(6*camisas.varValue+4*pantalones.varValue))"
      ],
      "execution_count": 86,
      "outputs": [
        {
          "output_type": "stream",
          "text": [
            "Beneficios Maimizado 136.0 \n"
          ],
          "name": "stdout"
        }
      ]
    }
  ]
}