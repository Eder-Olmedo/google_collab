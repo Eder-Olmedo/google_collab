{
  "nbformat": 4,
  "nbformat_minor": 0,
  "metadata": {
    "colab": {
      "name": "YoloEntreno.ipynb",
      "provenance": [],
      "collapsed_sections": [],
      "authorship_tag": "ABX9TyPsP2RxVTmA719cXXw/hTBV",
      "include_colab_link": true
    },
    "kernelspec": {
      "name": "python3",
      "display_name": "Python 3"
    },
    "language_info": {
      "name": "python"
    },
    "accelerator": "GPU"
  },
  "cells": [
    {
      "cell_type": "markdown",
      "metadata": {
        "id": "view-in-github",
        "colab_type": "text"
      },
      "source": [
        "<a href=\"https://colab.research.google.com/github/eder-rimarachin/google_collab/blob/main/YoloEntreno.ipynb\" target=\"_parent\"><img src=\"https://colab.research.google.com/assets/colab-badge.svg\" alt=\"Open In Colab\"/></a>"
      ]
    },
    {
      "cell_type": "code",
      "metadata": {
        "colab": {
          "base_uri": "https://localhost:8080/"
        },
        "id": "i9qED-pAy10V",
        "outputId": "d18300ee-c5dc-462c-8b55-3825b8f00082"
      },
      "source": [
        "!pip install torch==1.1 torchvision==0.3"
      ],
      "execution_count": 1,
      "outputs": [
        {
          "output_type": "stream",
          "name": "stdout",
          "text": [
            "Collecting torch==1.1\n",
            "  Downloading torch-1.1.0-cp37-cp37m-manylinux1_x86_64.whl (676.9 MB)\n",
            "\u001b[K     |████████████████████████████████| 676.9 MB 4.0 kB/s \n",
            "\u001b[?25hCollecting torchvision==0.3\n",
            "  Downloading torchvision-0.3.0-cp37-cp37m-manylinux1_x86_64.whl (2.6 MB)\n",
            "\u001b[K     |████████████████████████████████| 2.6 MB 47.9 MB/s \n",
            "\u001b[?25hRequirement already satisfied: numpy in /usr/local/lib/python3.7/dist-packages (from torch==1.1) (1.19.5)\n",
            "Requirement already satisfied: pillow>=4.1.1 in /usr/local/lib/python3.7/dist-packages (from torchvision==0.3) (7.1.2)\n",
            "Requirement already satisfied: six in /usr/local/lib/python3.7/dist-packages (from torchvision==0.3) (1.15.0)\n",
            "Installing collected packages: torch, torchvision\n",
            "  Attempting uninstall: torch\n",
            "    Found existing installation: torch 1.9.0+cu102\n",
            "    Uninstalling torch-1.9.0+cu102:\n",
            "      Successfully uninstalled torch-1.9.0+cu102\n",
            "  Attempting uninstall: torchvision\n",
            "    Found existing installation: torchvision 0.10.0+cu102\n",
            "    Uninstalling torchvision-0.10.0+cu102:\n",
            "      Successfully uninstalled torchvision-0.10.0+cu102\n",
            "\u001b[31mERROR: pip's dependency resolver does not currently take into account all the packages that are installed. This behaviour is the source of the following dependency conflicts.\n",
            "torchtext 0.10.0 requires torch==1.9.0, but you have torch 1.1.0 which is incompatible.\u001b[0m\n",
            "Successfully installed torch-1.1.0 torchvision-0.3.0\n"
          ]
        }
      ]
    },
    {
      "cell_type": "code",
      "metadata": {
        "colab": {
          "base_uri": "https://localhost:8080/"
        },
        "id": "iBmnnn6wzBMe",
        "outputId": "66222a61-cd5a-4d1d-9df4-4b6f525c529d"
      },
      "source": [
        "!pip install opencv-python numpy matplotlib tensorboard terminaltables pillow tqdm"
      ],
      "execution_count": 2,
      "outputs": [
        {
          "output_type": "stream",
          "name": "stdout",
          "text": [
            "Requirement already satisfied: opencv-python in /usr/local/lib/python3.7/dist-packages (4.1.2.30)\n",
            "Requirement already satisfied: numpy in /usr/local/lib/python3.7/dist-packages (1.19.5)\n",
            "Requirement already satisfied: matplotlib in /usr/local/lib/python3.7/dist-packages (3.2.2)\n",
            "Requirement already satisfied: tensorboard in /usr/local/lib/python3.7/dist-packages (2.6.0)\n",
            "Collecting terminaltables\n",
            "  Downloading terminaltables-3.1.0.tar.gz (12 kB)\n",
            "Requirement already satisfied: pillow in /usr/local/lib/python3.7/dist-packages (7.1.2)\n",
            "Requirement already satisfied: tqdm in /usr/local/lib/python3.7/dist-packages (4.62.2)\n",
            "Requirement already satisfied: kiwisolver>=1.0.1 in /usr/local/lib/python3.7/dist-packages (from matplotlib) (1.3.2)\n",
            "Requirement already satisfied: cycler>=0.10 in /usr/local/lib/python3.7/dist-packages (from matplotlib) (0.10.0)\n",
            "Requirement already satisfied: python-dateutil>=2.1 in /usr/local/lib/python3.7/dist-packages (from matplotlib) (2.8.2)\n",
            "Requirement already satisfied: pyparsing!=2.0.4,!=2.1.2,!=2.1.6,>=2.0.1 in /usr/local/lib/python3.7/dist-packages (from matplotlib) (2.4.7)\n",
            "Requirement already satisfied: six in /usr/local/lib/python3.7/dist-packages (from cycler>=0.10->matplotlib) (1.15.0)\n",
            "Requirement already satisfied: tensorboard-data-server<0.7.0,>=0.6.0 in /usr/local/lib/python3.7/dist-packages (from tensorboard) (0.6.1)\n",
            "Requirement already satisfied: absl-py>=0.4 in /usr/local/lib/python3.7/dist-packages (from tensorboard) (0.12.0)\n",
            "Requirement already satisfied: tensorboard-plugin-wit>=1.6.0 in /usr/local/lib/python3.7/dist-packages (from tensorboard) (1.8.0)\n",
            "Requirement already satisfied: requests<3,>=2.21.0 in /usr/local/lib/python3.7/dist-packages (from tensorboard) (2.23.0)\n",
            "Requirement already satisfied: werkzeug>=0.11.15 in /usr/local/lib/python3.7/dist-packages (from tensorboard) (1.0.1)\n",
            "Requirement already satisfied: setuptools>=41.0.0 in /usr/local/lib/python3.7/dist-packages (from tensorboard) (57.4.0)\n",
            "Requirement already satisfied: google-auth<2,>=1.6.3 in /usr/local/lib/python3.7/dist-packages (from tensorboard) (1.35.0)\n",
            "Requirement already satisfied: protobuf>=3.6.0 in /usr/local/lib/python3.7/dist-packages (from tensorboard) (3.17.3)\n",
            "Requirement already satisfied: grpcio>=1.24.3 in /usr/local/lib/python3.7/dist-packages (from tensorboard) (1.40.0)\n",
            "Requirement already satisfied: wheel>=0.26 in /usr/local/lib/python3.7/dist-packages (from tensorboard) (0.37.0)\n",
            "Requirement already satisfied: google-auth-oauthlib<0.5,>=0.4.1 in /usr/local/lib/python3.7/dist-packages (from tensorboard) (0.4.6)\n",
            "Requirement already satisfied: markdown>=2.6.8 in /usr/local/lib/python3.7/dist-packages (from tensorboard) (3.3.4)\n",
            "Requirement already satisfied: rsa<5,>=3.1.4 in /usr/local/lib/python3.7/dist-packages (from google-auth<2,>=1.6.3->tensorboard) (4.7.2)\n",
            "Requirement already satisfied: pyasn1-modules>=0.2.1 in /usr/local/lib/python3.7/dist-packages (from google-auth<2,>=1.6.3->tensorboard) (0.2.8)\n",
            "Requirement already satisfied: cachetools<5.0,>=2.0.0 in /usr/local/lib/python3.7/dist-packages (from google-auth<2,>=1.6.3->tensorboard) (4.2.2)\n",
            "Requirement already satisfied: requests-oauthlib>=0.7.0 in /usr/local/lib/python3.7/dist-packages (from google-auth-oauthlib<0.5,>=0.4.1->tensorboard) (1.3.0)\n",
            "Requirement already satisfied: importlib-metadata in /usr/local/lib/python3.7/dist-packages (from markdown>=2.6.8->tensorboard) (4.8.1)\n",
            "Requirement already satisfied: pyasn1<0.5.0,>=0.4.6 in /usr/local/lib/python3.7/dist-packages (from pyasn1-modules>=0.2.1->google-auth<2,>=1.6.3->tensorboard) (0.4.8)\n",
            "Requirement already satisfied: chardet<4,>=3.0.2 in /usr/local/lib/python3.7/dist-packages (from requests<3,>=2.21.0->tensorboard) (3.0.4)\n",
            "Requirement already satisfied: urllib3!=1.25.0,!=1.25.1,<1.26,>=1.21.1 in /usr/local/lib/python3.7/dist-packages (from requests<3,>=2.21.0->tensorboard) (1.24.3)\n",
            "Requirement already satisfied: certifi>=2017.4.17 in /usr/local/lib/python3.7/dist-packages (from requests<3,>=2.21.0->tensorboard) (2021.5.30)\n",
            "Requirement already satisfied: idna<3,>=2.5 in /usr/local/lib/python3.7/dist-packages (from requests<3,>=2.21.0->tensorboard) (2.10)\n",
            "Requirement already satisfied: oauthlib>=3.0.0 in /usr/local/lib/python3.7/dist-packages (from requests-oauthlib>=0.7.0->google-auth-oauthlib<0.5,>=0.4.1->tensorboard) (3.1.1)\n",
            "Requirement already satisfied: typing-extensions>=3.6.4 in /usr/local/lib/python3.7/dist-packages (from importlib-metadata->markdown>=2.6.8->tensorboard) (3.7.4.3)\n",
            "Requirement already satisfied: zipp>=0.5 in /usr/local/lib/python3.7/dist-packages (from importlib-metadata->markdown>=2.6.8->tensorboard) (3.5.0)\n",
            "Building wheels for collected packages: terminaltables\n",
            "  Building wheel for terminaltables (setup.py) ... \u001b[?25l\u001b[?25hdone\n",
            "  Created wheel for terminaltables: filename=terminaltables-3.1.0-py3-none-any.whl size=15354 sha256=50159bfee145d08495fcd074d09cc2955e46718295d95cacb10e4b947fcdac43\n",
            "  Stored in directory: /root/.cache/pip/wheels/ba/ad/c8/2d98360791161cd3db6daf6b5e730f34021fc9367d5879f497\n",
            "Successfully built terminaltables\n",
            "Installing collected packages: terminaltables\n",
            "Successfully installed terminaltables-3.1.0\n"
          ]
        }
      ]
    },
    {
      "cell_type": "code",
      "metadata": {
        "colab": {
          "base_uri": "https://localhost:8080/"
        },
        "id": "4XpFdZuEzDfH",
        "outputId": "2ceff7b3-d315-4657-c9cc-d1f8642e005e"
      },
      "source": [
        "!git clone https://github.com/DavidReveloLuna/Yolov3Custom.git"
      ],
      "execution_count": 3,
      "outputs": [
        {
          "output_type": "stream",
          "name": "stdout",
          "text": [
            "Cloning into 'Yolov3Custom'...\n",
            "remote: Enumerating objects: 4000, done.\u001b[K\n",
            "remote: Counting objects: 100% (248/248), done.\u001b[K\n",
            "remote: Compressing objects: 100% (228/228), done.\u001b[K\n",
            "remote: Total 4000 (delta 27), reused 212 (delta 8), pack-reused 3752\u001b[K\n",
            "Receiving objects: 100% (4000/4000), 256.93 MiB | 23.79 MiB/s, done.\n",
            "Resolving deltas: 100% (52/52), done.\n"
          ]
        }
      ]
    },
    {
      "cell_type": "code",
      "metadata": {
        "colab": {
          "base_uri": "https://localhost:8080/"
        },
        "id": "HdTwx4Qdz9Uw",
        "outputId": "67158694-79fb-45e1-b676-410dff84c308"
      },
      "source": [
        "cd Yolov3Custom\n"
      ],
      "execution_count": 4,
      "outputs": [
        {
          "output_type": "stream",
          "name": "stdout",
          "text": [
            "/content/Yolov3Custom\n"
          ]
        }
      ]
    },
    {
      "cell_type": "code",
      "metadata": {
        "colab": {
          "base_uri": "https://localhost:8080/"
        },
        "id": "RRAqgDra0Cw-",
        "outputId": "2e00a71f-2306-4e2b-cb45-ed7d4334efcc"
      },
      "source": [
        "import urllib.request\n",
        "urllib.request.urlretrieve('https://pjreddie.com/media/files/darknet53.conv.74','/content/Yolov3Custom/weights/darknet53.conv.74')"
      ],
      "execution_count": 5,
      "outputs": [
        {
          "output_type": "execute_result",
          "data": {
            "text/plain": [
              "('/content/Yolov3Custom/weights/darknet53.conv.74',\n",
              " <http.client.HTTPMessage at 0x7f6f7513c350>)"
            ]
          },
          "metadata": {},
          "execution_count": 5
        }
      ]
    },
    {
      "cell_type": "code",
      "metadata": {
        "colab": {
          "base_uri": "https://localhost:8080/"
        },
        "id": "Z3szknGY0dgg",
        "outputId": "3bce7829-3365-4b07-8bcc-fcf485b567be"
      },
      "source": [
        "from google.colab import drive\n",
        "    \n",
        "drive.mount('/content/drive')"
      ],
      "execution_count": 6,
      "outputs": [
        {
          "output_type": "stream",
          "name": "stdout",
          "text": [
            "Mounted at /content/drive\n"
          ]
        }
      ]
    },
    {
      "cell_type": "code",
      "metadata": {
        "colab": {
          "base_uri": "https://localhost:8080/"
        },
        "id": "sFiT0VBd0rIf",
        "outputId": "f62bcc5d-e300-44f1-d83d-b7919a36894c"
      },
      "source": [
        "!ls\n"
      ],
      "execution_count": 7,
      "outputs": [
        {
          "output_type": "stream",
          "name": "stdout",
          "text": [
            "assets\tdetect_cam.py  LICENSE\t  __pycache__  train.py  Yolov31103.ipynb\n",
            "config\tdetectC.py     models.py  README.md    utils\t Yolov3Files.ipynb\n",
            "data\tlabelImg       output\t  test.py      weights\n"
          ]
        }
      ]
    },
    {
      "cell_type": "code",
      "metadata": {
        "id": "efe_KkBz04PV"
      },
      "source": [
        "!cp -r \"/content/drive/My Drive/Inteligencia/custom\" \"/content/Yolov3Custom/data\"\n",
        "    \n",
        "!cp -r \"/content/drive/My Drive/Inteligencia/config\" \"/content/Yolov3Custom\""
      ],
      "execution_count": 16,
      "outputs": []
    },
    {
      "cell_type": "code",
      "metadata": {
        "id": "h3RWUcHR34CG"
      },
      "source": [
        "!cp -r \"/content/drive/My Drive/Inteligencia/custom\" \"/content/Yolov3Custom/data\""
      ],
      "execution_count": 24,
      "outputs": []
    },
    {
      "cell_type": "code",
      "metadata": {
        "colab": {
          "base_uri": "https://localhost:8080/"
        },
        "id": "nQkOSJNZ5cfH",
        "outputId": "4e921a06-838f-4783-e483-5d6edbe109cb"
      },
      "source": [
        "!python train.py --model_def config/yolov3-custom1C.cfg --data_config config/custom.data --epochs 200 --batch_size 4 --pretrained_weights weights/darknet53.conv.74\n"
      ],
      "execution_count": 28,
      "outputs": [
        {
          "output_type": "stream",
          "name": "stdout",
          "text": [
            "Namespace(batch_size=4, checkpoint_interval=1, compute_map=False, data_config='config/custom.data', epochs=200, evaluation_interval=5, gradient_accumulations=2, img_size=416, model_def='config/yolov3-custom1C.cfg', multiscale_training=True, n_cpu=8, pretrained_weights='weights/darknet53.conv.74')\n",
            "2021-09-27 03:01:52.954990: I tensorflow/stream_executor/cuda/cuda_gpu_executor.cc:937] successful NUMA node read from SysFS had negative value (-1), but there must be at least one NUMA node, so returning NUMA node zero\n",
            "2021-09-27 03:01:53.082519: I tensorflow/stream_executor/cuda/cuda_gpu_executor.cc:937] successful NUMA node read from SysFS had negative value (-1), but there must be at least one NUMA node, so returning NUMA node zero\n",
            "2021-09-27 03:01:53.083337: I tensorflow/stream_executor/cuda/cuda_gpu_executor.cc:937] successful NUMA node read from SysFS had negative value (-1), but there must be at least one NUMA node, so returning NUMA node zero\n",
            "2021-09-27 03:01:53.084567: I tensorflow/stream_executor/cuda/cuda_gpu_executor.cc:937] successful NUMA node read from SysFS had negative value (-1), but there must be at least one NUMA node, so returning NUMA node zero\n",
            "2021-09-27 03:01:53.085375: I tensorflow/stream_executor/cuda/cuda_gpu_executor.cc:937] successful NUMA node read from SysFS had negative value (-1), but there must be at least one NUMA node, so returning NUMA node zero\n",
            "2021-09-27 03:01:53.086123: I tensorflow/stream_executor/cuda/cuda_gpu_executor.cc:937] successful NUMA node read from SysFS had negative value (-1), but there must be at least one NUMA node, so returning NUMA node zero\n",
            "2021-09-27 03:01:54.855458: I tensorflow/stream_executor/cuda/cuda_gpu_executor.cc:937] successful NUMA node read from SysFS had negative value (-1), but there must be at least one NUMA node, so returning NUMA node zero\n",
            "2021-09-27 03:01:54.856355: I tensorflow/stream_executor/cuda/cuda_gpu_executor.cc:937] successful NUMA node read from SysFS had negative value (-1), but there must be at least one NUMA node, so returning NUMA node zero\n",
            "2021-09-27 03:01:54.857135: I tensorflow/stream_executor/cuda/cuda_gpu_executor.cc:937] successful NUMA node read from SysFS had negative value (-1), but there must be at least one NUMA node, so returning NUMA node zero\n",
            "2021-09-27 03:01:54.857852: W tensorflow/core/common_runtime/gpu/gpu_bfc_allocator.cc:39] Overriding allow_growth setting because the TF_FORCE_GPU_ALLOW_GROWTH environment variable is set. Original config value was 0.\n",
            "2021-09-27 03:01:54.857909: I tensorflow/core/common_runtime/gpu/gpu_device.cc:1510] Created device /job:localhost/replica:0/task:0/device:GPU:0 with 10600 MB memory:  -> device: 0, name: Tesla K80, pci bus id: 0000:00:04.0, compute capability: 3.7\n",
            "\n",
            "---- [Epoch 0/200, Batch 0/74] ----\n",
            "+------------+--------------+--------------+--------------+\n",
            "| Metrics    | YOLO Layer 0 | YOLO Layer 1 | YOLO Layer 2 |\n",
            "+------------+--------------+--------------+--------------+\n",
            "| grid_size  | 14           | 28           | 56           |\n",
            "| loss       | 71.312614    | 73.450363    | 70.470360    |\n",
            "| x          | 0.201593     | 0.078264     | 0.083465     |\n",
            "| y          | 0.147512     | 0.068349     | 0.031667     |\n",
            "| w          | 2.416303     | 0.080796     | 0.882537     |\n",
            "| h          | 0.742663     | 0.342136     | 0.952015     |\n",
            "| conf       | 67.101677    | 71.821106    | 67.824562    |\n",
            "| cls        | 0.702866     | 1.059712     | 0.696110     |\n",
            "| cls_acc    | 100.00%      | 100.00%      | 100.00%      |\n",
            "| recall50   | 0.000000     | 0.600000     | 0.200000     |\n",
            "| recall75   | 0.000000     | 0.200000     | 0.000000     |\n",
            "| precision  | 0.000000     | 0.000613     | 0.000068     |\n",
            "| conf_obj   | 0.542975     | 0.509696     | 0.524612     |\n",
            "| conf_noobj | 0.474592     | 0.503505     | 0.486483     |\n",
            "+------------+--------------+--------------+--------------+\n",
            "Total loss 215.23333740234375\n",
            "---- ETA 0:08:14.306002\n",
            "\n",
            "---- [Epoch 0/200, Batch 1/74] ----\n",
            "+------------+--------------+--------------+--------------+\n",
            "| Metrics    | YOLO Layer 0 | YOLO Layer 1 | YOLO Layer 2 |\n",
            "+------------+--------------+--------------+--------------+\n",
            "| grid_size  | 14           | 28           | 56           |\n",
            "| loss       | 69.544830    | 74.847977    | 72.078453    |\n",
            "| x          | 0.156773     | 0.084730     | 0.020100     |\n",
            "| y          | 0.105284     | 0.089941     | 0.105446     |\n",
            "| w          | 0.451730     | 1.103090     | 2.194589     |\n",
            "| h          | 1.063570     | 0.652878     | 1.052559     |\n",
            "| conf       | 67.104141    | 71.991524    | 67.949837    |\n",
            "| cls        | 0.663333     | 0.925808     | 0.755919     |\n",
            "| cls_acc    | 100.00%      | 100.00%      | 100.00%      |\n",
            "| recall50   | 0.000000     | 0.000000     | 0.000000     |\n",
            "| recall75   | 0.000000     | 0.000000     | 0.000000     |\n",
            "| precision  | 0.000000     | 0.000000     | 0.000000     |\n",
            "| conf_obj   | 0.542498     | 0.471890     | 0.479422     |\n",
            "| conf_noobj | 0.474888     | 0.503816     | 0.486647     |\n",
            "+------------+--------------+--------------+--------------+\n",
            "Total loss 216.47125244140625\n",
            "---- ETA 0:04:51.332746\n",
            "\n",
            "---- [Epoch 0/200, Batch 2/74] ----\n",
            "+------------+--------------+--------------+--------------+\n",
            "| Metrics    | YOLO Layer 0 | YOLO Layer 1 | YOLO Layer 2 |\n",
            "+------------+--------------+--------------+--------------+\n",
            "| grid_size  | 14           | 28           | 56           |\n",
            "| loss       | 64.375450    | 66.506790    | 64.960548    |\n",
            "| x          | 0.096448     | 0.142330     | 0.078717     |\n",
            "| y          | 0.080480     | 0.119937     | 0.098191     |\n",
            "| w          | 6.717188     | 0.177884     | 0.373159     |\n",
            "| h          | 3.513309     | 1.096289     | 0.581280     |\n",
            "| conf       | 53.668541    | 64.374168    | 63.340649    |\n",
            "| cls        | 0.299482     | 0.596183     | 0.488559     |\n",
            "| cls_acc    | 100.00%      | 100.00%      | 100.00%      |\n",
            "| recall50   | 0.200000     | 0.200000     | 0.200000     |\n",
            "| recall75   | 0.000000     | 0.000000     | 0.200000     |\n",
            "| precision  | 0.001835     | 0.000302     | 0.000115     |\n",
            "| conf_obj   | 0.349434     | 0.491146     | 0.512208     |\n",
            "| conf_noobj | 0.392383     | 0.458839     | 0.462354     |\n",
            "+------------+--------------+--------------+--------------+\n",
            "Total loss 195.8427734375\n",
            "---- ETA 0:03:40.095705\n",
            "Traceback (most recent call last):\n",
            "  File \"train.py\", line 99, in <module>\n",
            "    for batch_i, (_, imgs, targets) in enumerate(dataloader):\n",
            "  File \"/usr/local/lib/python3.7/dist-packages/torch/utils/data/dataloader.py\", line 568, in __next__\n",
            "    return self._process_next_batch(batch)\n",
            "  File \"/usr/local/lib/python3.7/dist-packages/torch/utils/data/dataloader.py\", line 608, in _process_next_batch\n",
            "    raise batch.exc_type(batch.exc_msg)\n",
            "TypeError: Traceback (most recent call last):\n",
            "  File \"/usr/local/lib/python3.7/dist-packages/torch/utils/data/_utils/worker.py\", line 99, in _worker_loop\n",
            "    samples = collate_fn([dataset[i] for i in batch_indices])\n",
            "  File \"/usr/local/lib/python3.7/dist-packages/torch/utils/data/_utils/worker.py\", line 99, in <listcomp>\n",
            "    samples = collate_fn([dataset[i] for i in batch_indices])\n",
            "  File \"/content/Yolov3Custom/utils/datasets.py\", line 130, in __getitem__\n",
            "    img, targets = horisontal_flip(img, targets)\n",
            "  File \"/content/Yolov3Custom/utils/augmentations.py\", line 8, in horisontal_flip\n",
            "    targets[:, 2] = 1 - targets[:, 2]\n",
            "TypeError: 'NoneType' object is not subscriptable\n",
            "\n"
          ]
        }
      ]
    },
    {
      "cell_type": "code",
      "metadata": {
        "colab": {
          "base_uri": "https://localhost:8080/"
        },
        "id": "HK1NjiKbK1jk",
        "outputId": "01c8629d-91d8-48bd-ab9d-ee67c4bf47d1"
      },
      "source": [
        "cd data \n"
      ],
      "execution_count": 20,
      "outputs": [
        {
          "output_type": "stream",
          "name": "stdout",
          "text": [
            "/content/Yolov3Custom/data\n"
          ]
        }
      ]
    },
    {
      "cell_type": "code",
      "metadata": {
        "colab": {
          "base_uri": "https://localhost:8080/"
        },
        "id": "aAgJAgQVLA3y",
        "outputId": "b3d35652-e34e-46ec-d20b-ff3622873f9f"
      },
      "source": [
        "cd ..\n"
      ],
      "execution_count": 26,
      "outputs": [
        {
          "output_type": "stream",
          "name": "stdout",
          "text": [
            "/content/Yolov3Custom\n"
          ]
        }
      ]
    },
    {
      "cell_type": "code",
      "metadata": {
        "id": "QKfCBcVhLELD"
      },
      "source": [
        "rm -rf custom/"
      ],
      "execution_count": 23,
      "outputs": []
    }
  ]
}