{
  "nbformat": 4,
  "nbformat_minor": 0,
  "metadata": {
    "colab": {
      "name": "Copia de Copia de Vestimenta.ipynb",
      "provenance": [],
      "authorship_tag": "ABX9TyPDg22hyU6/d8RxIy0QS5/j",
      "include_colab_link": true
    },
    "kernelspec": {
      "name": "python3",
      "display_name": "Python 3"
    },
    "language_info": {
      "name": "python"
    }
  },
  "cells": [
    {
      "cell_type": "markdown",
      "metadata": {
        "id": "view-in-github",
        "colab_type": "text"
      },
      "source": [
        "<a href=\"https://colab.research.google.com/github/Eder-Olmedo/google_collab/blob/main/Vestimenta_v3.ipynb\" target=\"_parent\"><img src=\"https://colab.research.google.com/assets/colab-badge.svg\" alt=\"Open In Colab\"/></a>"
      ]
    },
    {
      "cell_type": "markdown",
      "metadata": {
        "id": "-9R1Xt49aPlp"
      },
      "source": [
        "Vestimentas:"
      ]
    },
    {
      "cell_type": "markdown",
      "metadata": {
        "id": "7Xwu1RnDaU3B"
      },
      "source": [
        "Maximizar una función que representa el beneficio resultante de fabricar X1 camisetas y X2 pantalones \n",
        "\n",
        "F(X1, X2) = (12-6)X1+(8-4)X2,\n",
        "con las siguientes restricciones: \n",
        "\n",
        "7X1+4X2<=150 \n",
        "\n",
        "6X1+5X2<=160 \n",
        "\n",
        "X1>=0 X2>=0\n",
        "\n",
        "OBJETIVO: \n",
        "Encontrar una asignación de valores enteros para las variables X1, X2 que, cumpliendo con las restricciones impuestas hagan que la función f tome el máximo valor posible. Recordar también que X1 está acotado entre 0 y 21 y X2 entre 0 y 32\n"
      ]
    },
    {
      "cell_type": "markdown",
      "metadata": {
        "id": "i3pZl7qGauJ_"
      },
      "source": [
        "Primeros importamos los archivos necesarios y creamos el pulpobjeto LP con el que se trabaja.\n"
      ]
    },
    {
      "cell_type": "code",
      "metadata": {
        "colab": {
          "base_uri": "https://localhost:8080/"
        },
        "id": "sgU4Xf-Kagvc",
        "outputId": "c9d43e29-1384-4a58-e3be-601e81ce9251"
      },
      "source": [
        "pip install pulp"
      ],
      "execution_count": 2,
      "outputs": [
        {
          "output_type": "stream",
          "text": [
            "Collecting pulp\n",
            "  Downloading PuLP-2.5.0-py3-none-any.whl (41.2 MB)\n",
            "\u001b[K     |████████████████████████████████| 41.2 MB 72 kB/s \n",
            "\u001b[?25hInstalling collected packages: pulp\n",
            "Successfully installed pulp-2.5.0\n"
          ],
          "name": "stdout"
        }
      ]
    },
    {
      "cell_type": "code",
      "metadata": {
        "id": "20D-u_ZfaUCb"
      },
      "source": [
        "import pulp\n",
        "\n",
        "#creamos el objeto LP, para el problema de maximizacion\n",
        "problema = pulp.LpProblem(\"problema\", pulp.LpMaximize)\n",
        "\n",
        "#creamos las variables de decisión\n",
        "camisas = pulp.LpVariable('camisas', lowBound=0, upBound=21, cat='Integer')\n",
        "pantalones = pulp.LpVariable('pantalones', lowBound=0, upBound=32, cat='Integer')"
      ],
      "execution_count": 3,
      "outputs": []
    },
    {
      "cell_type": "markdown",
      "metadata": {
        "id": "rHPgxkAxb6Mo"
      },
      "source": [
        "Se agrega la funcion Obejtivo:"
      ]
    },
    {
      "cell_type": "code",
      "metadata": {
        "id": "KGlvLyoBb34z",
        "colab": {
          "base_uri": "https://localhost:8080/"
        },
        "outputId": "c06d8982-49f7-43b2-b62f-ea99caf2bb31"
      },
      "source": [
        "#Se crea la función objetivo\n",
        "problema += 6*camisas + 4*pantalones"
      ],
      "execution_count": 8,
      "outputs": [
        {
          "output_type": "stream",
          "text": [
            "/usr/local/lib/python3.7/dist-packages/pulp/pulp.py:1671: UserWarning: Overwriting previously set objective.\n",
            "  warnings.warn(\"Overwriting previously set objective.\")\n"
          ],
          "name": "stderr"
        }
      ]
    },
    {
      "cell_type": "markdown",
      "metadata": {
        "id": "Ax5mhBeQhmeH"
      },
      "source": [
        "Restricciones\n"
      ]
    },
    {
      "cell_type": "code",
      "metadata": {
        "id": "SGEseWmXhn96"
      },
      "source": [
        "#Se aplica las restricciones.\n",
        "problema += 7*camisas + 4*pantalones <= 150\n",
        "problema += 6*camisas + 5*pantalones <= 160"
      ],
      "execution_count": 9,
      "outputs": []
    },
    {
      "cell_type": "code",
      "metadata": {
        "colab": {
          "base_uri": "https://localhost:8080/"
        },
        "id": "h8SY67P5lgUH",
        "outputId": "503b3673-de51-4b11-aba9-bbc090e53bbb"
      },
      "source": [
        "print(\"Produce {} camisas\".format(camisas.varValue))\n",
        "print(\"Produce {} pantalones\".format(pantalones.varValue))"
      ],
      "execution_count": 11,
      "outputs": [
        {
          "output_type": "stream",
          "text": [
            "Produce 10.0 camisas\n",
            "Produce 20.0 pantalones\n"
          ],
          "name": "stdout"
        }
      ]
    },
    {
      "cell_type": "code",
      "metadata": {
        "colab": {
          "base_uri": "https://localhost:8080/"
        },
        "id": "zrBj1Ytglxop",
        "outputId": "5749572a-1112-41b8-bdbd-d27d75f2c878"
      },
      "source": [
        "print(\"Beneficios Maimizado {} \".format(6*camisas.varValue+4*pantalones.varValue))"
      ],
      "execution_count": 12,
      "outputs": [
        {
          "output_type": "stream",
          "text": [
            "Beneficios Maimizado 140.0 \n"
          ],
          "name": "stdout"
        }
      ]
    }
  ]
}